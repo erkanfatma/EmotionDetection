{
 "cells": [
  {
   "cell_type": "code",
   "execution_count": null,
   "id": "funded-speech",
   "metadata": {},
   "outputs": [],
   "source": [
    "pip install -U scikit-plot"
   ]
  },
  {
   "cell_type": "code",
   "execution_count": 2,
   "id": "capable-dragon",
   "metadata": {},
   "outputs": [],
   "source": [
    "# Importing libraries\n",
    "import os \n",
    "import keras\n",
    "import scikitplot\n",
    "import numpy as np\n",
    "import pandas as pd\n",
    "from keras.preprocessing.text import Tokenizer\n",
    "from keras.preprocessing.sequence import pad_sequences\n",
    "from keras.utils import to_categorical\n",
    "import matplotlib.pyplot as plt\n",
    "from scikitplot.metrics import plot_confusion_matrix\n",
    "from sklearn.metrics import classification_report"
   ]
  },
  {
   "cell_type": "code",
   "execution_count": 4,
   "id": "major-catch",
   "metadata": {},
   "outputs": [],
   "source": [
    "#Loading datafiles\n",
    "trainData = pd.read_csv('SentimentTrain.txt', header =None, sep =';', names = ['text','Sentiment'], encoding='utf-8')\n",
    "testData = pd.read_csv('SentimentTest.txt', header = None, sep =';', names = ['text','Sentiment'],encoding='utf-8')\n",
    "valData =pd.read_csv('SentimentVal.txt',header=None,sep=';',names=['text','Sentiment'],encoding='utf-8')"
   ]
  },
  {
   "cell_type": "code",
   "execution_count": 5,
   "id": "headed-belief",
   "metadata": {},
   "outputs": [
    {
     "data": {
      "text/html": [
       "<div>\n",
       "<style scoped>\n",
       "    .dataframe tbody tr th:only-of-type {\n",
       "        vertical-align: middle;\n",
       "    }\n",
       "\n",
       "    .dataframe tbody tr th {\n",
       "        vertical-align: top;\n",
       "    }\n",
       "\n",
       "    .dataframe thead th {\n",
       "        text-align: right;\n",
       "    }\n",
       "</style>\n",
       "<table border=\"1\" class=\"dataframe\">\n",
       "  <thead>\n",
       "    <tr style=\"text-align: right;\">\n",
       "      <th></th>\n",
       "      <th>text</th>\n",
       "      <th>Sentiment</th>\n",
       "    </tr>\n",
       "  </thead>\n",
       "  <tbody>\n",
       "    <tr>\n",
       "      <th>0</th>\n",
       "      <td>i didnt feel humiliated</td>\n",
       "      <td>sadness</td>\n",
       "    </tr>\n",
       "    <tr>\n",
       "      <th>1</th>\n",
       "      <td>i can go from feeling so hopeless to so damned...</td>\n",
       "      <td>sadness</td>\n",
       "    </tr>\n",
       "    <tr>\n",
       "      <th>2</th>\n",
       "      <td>im grabbing a minute to post i feel greedy wrong</td>\n",
       "      <td>anger</td>\n",
       "    </tr>\n",
       "    <tr>\n",
       "      <th>3</th>\n",
       "      <td>i am ever feeling nostalgic about the fireplac...</td>\n",
       "      <td>love</td>\n",
       "    </tr>\n",
       "    <tr>\n",
       "      <th>4</th>\n",
       "      <td>i am feeling grouchy</td>\n",
       "      <td>anger</td>\n",
       "    </tr>\n",
       "  </tbody>\n",
       "</table>\n",
       "</div>"
      ],
      "text/plain": [
       "                                                text Sentiment\n",
       "0                            i didnt feel humiliated   sadness\n",
       "1  i can go from feeling so hopeless to so damned...   sadness\n",
       "2   im grabbing a minute to post i feel greedy wrong     anger\n",
       "3  i am ever feeling nostalgic about the fireplac...      love\n",
       "4                               i am feeling grouchy     anger"
      ]
     },
     "execution_count": 5,
     "metadata": {},
     "output_type": "execute_result"
    }
   ],
   "source": [
    "# Print top rows of the dataset\n",
    "trainData.head()"
   ]
  },
  {
   "cell_type": "code",
   "execution_count": 6,
   "id": "assured-surveillance",
   "metadata": {},
   "outputs": [
    {
     "data": {
      "text/plain": [
       "joy         5361\n",
       "sadness     4666\n",
       "anger       2159\n",
       "fear        1937\n",
       "love        1304\n",
       "surprise     572\n",
       "Name: Sentiment, dtype: int64"
      ]
     },
     "execution_count": 6,
     "metadata": {},
     "output_type": "execute_result"
    }
   ],
   "source": [
    "#Count of the each target class in the dataset\n",
    "trainData['Sentiment'].value_counts()"
   ]
  },
  {
   "cell_type": "code",
   "execution_count": 7,
   "id": "ignored-submission",
   "metadata": {},
   "outputs": [],
   "source": [
    "#Assign text to X variable\n",
    "X = trainData['text']\n",
    "\n",
    "#Initilaze tokenizer with 15212 seq length and replace out of vocabulary \n",
    "#with token UNK\n",
    "tokenizer = Tokenizer(15212, lower = True, oov_token='UNK')\n",
    "\n",
    "#Fitting the model on text\n",
    "tokenizer.fit_on_texts(X)"
   ]
  },
  {
   "cell_type": "code",
   "execution_count": 8,
   "id": "mobile-heading",
   "metadata": {},
   "outputs": [],
   "source": [
    "#Convert text to sequence of words\n",
    "X_train = tokenizer.texts_to_sequences(X)\n",
    "\n",
    "# Pads sequences to the same length\n",
    "X_train_pad = pad_sequences(X_train, maxlen=80, padding='post')"
   ]
  },
  {
   "cell_type": "code",
   "execution_count": 9,
   "id": "skilled-carol",
   "metadata": {},
   "outputs": [],
   "source": [
    "#Convert string label into integers to use in model\n",
    "trainData['Sentiment'] = trainData.Sentiment.replace({'joy':0,'anger':1,'love':2,'sadness':3,'fear':4,'surprise':5})"
   ]
  },
  {
   "cell_type": "code",
   "execution_count": 10,
   "id": "seventh-organization",
   "metadata": {},
   "outputs": [],
   "source": [
    "#Reading labels\n",
    "Y_train = trainData['Sentiment'].values"
   ]
  },
  {
   "cell_type": "code",
   "execution_count": 11,
   "id": "curious-least",
   "metadata": {},
   "outputs": [],
   "source": [
    "#Convert into vector\n",
    "Y_train_vector = to_categorical(Y_train)"
   ]
  },
  {
   "cell_type": "code",
   "execution_count": 12,
   "id": "acceptable-pulse",
   "metadata": {},
   "outputs": [],
   "source": [
    "#Same operations for validation dataset\n",
    "X_validation = valData['text']\n",
    "Y_validation = valData.Sentiment.replace({'joy':0,'anger':1,'love':2,'sadness':3,'fear':4,'surprise':5})\n",
    "\n",
    "X_validation_vector = tokenizer.texts_to_sequences(X_validation)\n",
    "X_validation_pad = pad_sequences(X_validation_vector, maxlen=80, padding='post')\n",
    "\n",
    "Y_validation_vector = to_categorical(Y_validation)"
   ]
  },
  {
   "cell_type": "code",
   "execution_count": 13,
   "id": "brutal-child",
   "metadata": {},
   "outputs": [],
   "source": [
    "#Import model and relevant libraries \n",
    "from keras.models import Sequential\n",
    "from keras.layers import LSTM, Bidirectional, Dense, Embedding, Dropout"
   ]
  },
  {
   "cell_type": "code",
   "execution_count": 14,
   "id": "norwegian-method",
   "metadata": {},
   "outputs": [
    {
     "name": "stdout",
     "output_type": "stream",
     "text": [
      "Model: \"sequential\"\n",
      "_________________________________________________________________\n",
      "Layer (type)                 Output Shape              Param #   \n",
      "=================================================================\n",
      "embedding (Embedding)        (None, 80, 64)            973568    \n",
      "_________________________________________________________________\n",
      "dropout (Dropout)            (None, 80, 64)            0         \n",
      "_________________________________________________________________\n",
      "bidirectional (Bidirectional (None, 80, 160)           92800     \n",
      "_________________________________________________________________\n",
      "bidirectional_1 (Bidirection (None, 320)               410880    \n",
      "_________________________________________________________________\n",
      "dense (Dense)                (None, 6)                 1926      \n",
      "=================================================================\n",
      "Total params: 1,479,174\n",
      "Trainable params: 1,479,174\n",
      "Non-trainable params: 0\n",
      "_________________________________________________________________\n",
      "None\n"
     ]
    }
   ],
   "source": [
    "#Model architecture definition using Sequential Model\n",
    "model = Sequential()\n",
    "\n",
    "#Add embedding layer\n",
    "model.add(Embedding(15212, 64, input_length=80))\n",
    "\n",
    "#Add dropout to model\n",
    "model.add(Dropout(0.3))\n",
    "\n",
    "#Add Bidirectional LSTM layer with return seq true \n",
    "# True for only first LSTM layer\n",
    "model.add(Bidirectional(LSTM (80, return_sequences= True)))\n",
    "model.add(Bidirectional(LSTM(160)))\n",
    "\n",
    "#Add softmax layer with number of class = 6\n",
    "model.add(Dense(6, activation='softmax'))\n",
    "\n",
    "#Print model\n",
    "print(model.summary())"
   ]
  },
  {
   "cell_type": "code",
   "execution_count": 15,
   "id": "cleared-nightmare",
   "metadata": {
    "scrolled": false
   },
   "outputs": [
    {
     "name": "stdout",
     "output_type": "stream",
     "text": [
      "Epoch 1/12\n",
      "500/500 [==============================] - 228s 440ms/step - loss: 1.3921 - accuracy: 0.4464 - val_loss: 0.5077 - val_accuracy: 0.8190\n",
      "Epoch 2/12\n",
      "500/500 [==============================] - 215s 429ms/step - loss: 0.3750 - accuracy: 0.8667 - val_loss: 0.2502 - val_accuracy: 0.9085\n",
      "Epoch 3/12\n",
      "500/500 [==============================] - 212s 424ms/step - loss: 0.1812 - accuracy: 0.9328 - val_loss: 0.2293 - val_accuracy: 0.9165\n",
      "Epoch 4/12\n",
      "500/500 [==============================] - 222s 445ms/step - loss: 0.1252 - accuracy: 0.9552 - val_loss: 0.2107 - val_accuracy: 0.9230\n",
      "Epoch 5/12\n",
      "500/500 [==============================] - 215s 430ms/step - loss: 0.0899 - accuracy: 0.9651 - val_loss: 0.2044 - val_accuracy: 0.9190\n",
      "Epoch 6/12\n",
      "500/500 [==============================] - 211s 423ms/step - loss: 0.0746 - accuracy: 0.9717 - val_loss: 0.1897 - val_accuracy: 0.9335\n",
      "Epoch 7/12\n",
      "500/500 [==============================] - 214s 429ms/step - loss: 0.0680 - accuracy: 0.9736 - val_loss: 0.2261 - val_accuracy: 0.9230\n",
      "Epoch 8/12\n",
      "500/500 [==============================] - 167s 334ms/step - loss: 0.0461 - accuracy: 0.9818 - val_loss: 0.2157 - val_accuracy: 0.9330\n",
      "Epoch 9/12\n",
      "500/500 [==============================] - 195s 390ms/step - loss: 0.0478 - accuracy: 0.9829 - val_loss: 0.2133 - val_accuracy: 0.9310\n",
      "Epoch 10/12\n",
      "500/500 [==============================] - 218s 436ms/step - loss: 0.0494 - accuracy: 0.9834 - val_loss: 0.2174 - val_accuracy: 0.9345\n",
      "Epoch 11/12\n",
      "500/500 [==============================] - 207s 413ms/step - loss: 0.0377 - accuracy: 0.9874 - val_loss: 0.2347 - val_accuracy: 0.9320\n",
      "Epoch 12/12\n",
      "500/500 [==============================] - 204s 408ms/step - loss: 0.0407 - accuracy: 0.9855 - val_loss: 0.2103 - val_accuracy: 0.9325\n"
     ]
    }
   ],
   "source": [
    "#Compile the model\n",
    "model.compile(optimizer = 'adam', loss = 'categorical_crossentropy', metrics = ['accuracy'])\n",
    "\n",
    "#Fit model on trainData and validate on ValData while training\n",
    "history = model.fit(X_train_pad, Y_train_vector, epochs = 12, validation_data = (X_validation_pad, Y_validation_vector))"
   ]
  },
  {
   "cell_type": "code",
   "execution_count": 16,
   "id": "detected-swedish",
   "metadata": {
    "scrolled": true
   },
   "outputs": [
    {
     "data": {
      "image/png": "[encoded data removed]",
      "text/plain": [
       "<Figure size 432x288 with 1 Axes>"
      ]
     },
     "metadata": {
      "needs_background": "light"
     },
     "output_type": "display_data"
    }
   ],
   "source": [
    "#Plot to show training and validation accuracy vs each epochs\n",
    "plt.plot(history.history['accuracy'],c = 'teal', label = 'train')\n",
    "plt.plot(history.history['val_accuracy'], c = 'purple', label = 'validation')\n",
    "plt.legend(loc = 'lower right')\n",
    "plt.show()"
   ]
  },
  {
   "cell_type": "code",
   "execution_count": 17,
   "id": "weighted-powder",
   "metadata": {},
   "outputs": [
    {
     "data": {
      "image/png": "[encoded data removed]",
      "text/plain": [
       "<Figure size 432x288 with 1 Axes>"
      ]
     },
     "metadata": {
      "needs_background": "light"
     },
     "output_type": "display_data"
    }
   ],
   "source": [
    "#Plot to show training and validation loss vs each epochs\n",
    "plt.plot(history.history['loss'], c = 'g', label = 'train')\n",
    "plt.plot(history.history['val_loss'], c = 'orange', label = 'validation')\n",
    "plt.legend(loc = 'upper right')\n",
    "plt.show()"
   ]
  },
  {
   "cell_type": "code",
   "execution_count": 18,
   "id": "emotional-envelope",
   "metadata": {},
   "outputs": [],
   "source": [
    "#TEST the data on test dataset\n",
    "\n",
    "#Same operations for test dataset as did in train dataset and validation dataset\n",
    "X_test = testData['text']\n",
    "Y_test = testData.Sentiment.replace({'joy':0,'anger':1,'love':2,'sadness':3,'fear':4,'surprise':5})\n",
    " \n",
    "X_test_vector = tokenizer.texts_to_sequences(X_test)\n",
    "X_test_pad = pad_sequences(X_test_vector, maxlen = 80, padding= 'post')\n",
    "\n",
    "Y_test_vector = to_categorical(Y_test)"
   ]
  },
  {
   "cell_type": "code",
   "execution_count": 19,
   "id": "worth-importance",
   "metadata": {},
   "outputs": [
    {
     "name": "stdout",
     "output_type": "stream",
     "text": [
      "63/63 [==============================] - 6s 97ms/step - loss: 0.2595 - accuracy: 0.9165\n"
     ]
    },
    {
     "data": {
      "text/plain": [
       "[0.2594512403011322, 0.9164999723434448]"
      ]
     },
     "execution_count": 19,
     "metadata": {},
     "output_type": "execute_result"
    }
   ],
   "source": [
    "#Evaluate model on test set\n",
    "model.evaluate(X_test_pad, Y_test_vector)"
   ]
  },
  {
   "cell_type": "code",
   "execution_count": 21,
   "id": "southwest-boulder",
   "metadata": {},
   "outputs": [],
   "source": [
    "#Predict test labels\n",
    "Y_pred = model.predict_classes(X_test_pad)"
   ]
  },
  {
   "cell_type": "code",
   "execution_count": 22,
   "id": "extraordinary-faculty",
   "metadata": {},
   "outputs": [
    {
     "name": "stdout",
     "output_type": "stream",
     "text": [
      "              precision    recall  f1-score   support\n",
      "\n",
      "           0       0.94      0.93      0.93       695\n",
      "           1       0.93      0.92      0.92       275\n",
      "           2       0.77      0.79      0.78       159\n",
      "           3       0.95      0.97      0.96       581\n",
      "           4       0.88      0.89      0.89       224\n",
      "           5       0.74      0.74      0.74        66\n",
      "\n",
      "    accuracy                           0.92      2000\n",
      "   macro avg       0.87      0.87      0.87      2000\n",
      "weighted avg       0.92      0.92      0.92      2000\n",
      "\n"
     ]
    }
   ],
   "source": [
    "#Print evaluation in form of classification report\n",
    "print(classification_report(Y_test, Y_pred))"
   ]
  },
  {
   "cell_type": "code",
   "execution_count": 23,
   "id": "pressing-carbon",
   "metadata": {},
   "outputs": [],
   "source": [
    "#Function to take sentence and printing the predicted emotion\n",
    "def get_key(value):\n",
    "    emotions = {'joy':0,'anger':1,'love':2,'sadness':3,'fear':4,'surprise':5}\n",
    "    for key, val in emotions.items():\n",
    "        if(val == value):\n",
    "            return key"
   ]
  },
  {
   "cell_type": "code",
   "execution_count": 29,
   "id": "bulgarian-station",
   "metadata": {},
   "outputs": [],
   "source": [
    "def predict(sentence):\n",
    "    sentence_lst = []\n",
    "    sentence_lst.append(sentence)\n",
    "    sentence_seq = tokenizer.texts_to_sequences(sentence_lst)\n",
    "    sentence_padded = pad_sequences(sentence_seq, maxlen = 80, padding = 'post')\n",
    "    answer = get_key(model.predict_classes(sentence_padded))\n",
    "    print(\"The sentence is: \", sentence)\n",
    "    print(\"The emotion prediction is: \", answer)\n",
    "    print(\"\\n\")"
   ]
  },
  {
   "cell_type": "code",
   "execution_count": 30,
   "id": "another-myrtle",
   "metadata": {},
   "outputs": [
    {
     "name": "stdout",
     "output_type": "stream",
     "text": [
      "The sentence is:  I feel so shamed that I want to give up\n",
      "The emotion prediction is:  sadness\n",
      "\n",
      "\n",
      "The sentence is:  I feel like a faithful servant\n",
      "The emotion prediction is:  joy\n",
      "\n",
      "\n",
      "The sentence is:  Hate you\n",
      "The emotion prediction is:  anger\n",
      "\n",
      "\n",
      "The sentence is:  I am so happy\n",
      "The emotion prediction is:  joy\n",
      "\n",
      "\n",
      "The sentence is:  I was feeling frightened to the core what if my friends laughed at me what if sir was too harsh what if\n",
      "The emotion prediction is:  fear\n",
      "\n",
      "\n",
      "The sentence is:  I feel a funny mix of emotions\n",
      "The emotion prediction is:  surprise\n",
      "\n",
      "\n"
     ]
    }
   ],
   "source": [
    "sadness_sentence = \"I feel so shamed that I want to give up\"\n",
    "predict(sadness_sentence)\n",
    "\n",
    "love_sentence = \"I feel like a faithful servant\"\n",
    "predict(love_sentence)\n",
    "\n",
    "anger_sentence = \"Hate you\"\n",
    "predict(anger_sentence)\n",
    "\n",
    "joy_sentence = \"I am so happy\"\n",
    "predict(joy_sentence)\n",
    "\n",
    "fear_sentence = \"I was feeling frightened to the core what if my friends laughed at me what if sir was too harsh what if\"\n",
    "predict(fear_sentence)\n",
    "\n",
    "surprise_sentence = \"I feel a funny mix of emotions\"\n",
    "predict(surprise_sentence)"
   ]
  }
 ],
 "metadata": {
  "kernelspec": {
   "display_name": "Python 3",
   "language": "python",
   "name": "python3"
  },
  "language_info": {
   "codemirror_mode": {
    "name": "ipython",
    "version": 3
   },
   "file_extension": ".py",
   "mimetype": "text/x-python",
   "name": "python",
   "nbconvert_exporter": "python",
   "pygments_lexer": "ipython3",
   "version": "3.6.5"
  }
 },
 "nbformat": 4,
 "nbformat_minor": 5
}
